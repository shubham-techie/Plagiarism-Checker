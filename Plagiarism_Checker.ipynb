{
  "cells": [
    {
      "cell_type": "markdown",
      "metadata": {
        "id": "QTdjIyasPX_Q"
      },
      "source": [
        "Group No - 43 \\\n",
        "Topic - Plagiarism Checker"
      ]
    },
    {
      "cell_type": "markdown",
      "metadata": {
        "id": "xydkQIJoPc4P"
      },
      "source": [
        "# Experiment No - 03"
      ]
    },
    {
      "cell_type": "code",
      "execution_count": null,
      "metadata": {
        "id": "RVWBSPovODDK",
        "colab": {
          "base_uri": "https://localhost:8080/"
        },
        "outputId": "5a73580f-58f3-4a51-853c-95040582a494"
      },
      "outputs": [
        {
          "output_type": "stream",
          "name": "stdout",
          "text": [
            "Looking in indexes: https://pypi.org/simple, https://us-python.pkg.dev/colab-wheels/public/simple/\n",
            "Requirement already satisfied: pyspellchecker in /usr/local/lib/python3.7/dist-packages (0.7.0)\n",
            "Looking in indexes: https://pypi.org/simple, https://us-python.pkg.dev/colab-wheels/public/simple/\n",
            "Requirement already satisfied: nltk in /usr/local/lib/python3.7/dist-packages (3.7)\n",
            "Requirement already satisfied: joblib in /usr/local/lib/python3.7/dist-packages (from nltk) (1.2.0)\n",
            "Requirement already satisfied: regex>=2021.8.3 in /usr/local/lib/python3.7/dist-packages (from nltk) (2022.6.2)\n",
            "Requirement already satisfied: tqdm in /usr/local/lib/python3.7/dist-packages (from nltk) (4.64.1)\n",
            "Requirement already satisfied: click in /usr/local/lib/python3.7/dist-packages (from nltk) (7.1.2)\n"
          ]
        },
        {
          "output_type": "stream",
          "name": "stderr",
          "text": [
            "[nltk_data] Downloading package stopwords to /root/nltk_data...\n",
            "[nltk_data]   Package stopwords is already up-to-date!\n",
            "[nltk_data] Downloading package punkt to /root/nltk_data...\n",
            "[nltk_data]   Package punkt is already up-to-date!\n",
            "[nltk_data] Downloading package wordnet to /root/nltk_data...\n",
            "[nltk_data]   Package wordnet is already up-to-date!\n",
            "[nltk_data] Downloading package omw-1.4 to /root/nltk_data...\n",
            "[nltk_data]   Package omw-1.4 is already up-to-date!\n",
            "[nltk_data] Downloading package averaged_perceptron_tagger to\n",
            "[nltk_data]     /root/nltk_data...\n",
            "[nltk_data]   Package averaged_perceptron_tagger is already up-to-\n",
            "[nltk_data]       date!\n"
          ]
        },
        {
          "output_type": "execute_result",
          "data": {
            "text/plain": [
              "True"
            ]
          },
          "metadata": {},
          "execution_count": 148
        }
      ],
      "source": [
        "! pip install pyspellchecker\n",
        "! pip install nltk\n",
        "import nltk\n",
        "nltk.download('stopwords')\n",
        "nltk.download('punkt')\n",
        "nltk.download('wordnet')\n",
        "nltk.download('omw-1.4')\n",
        "nltk.download('averaged_perceptron_tagger')"
      ]
    },
    {
      "cell_type": "markdown",
      "metadata": {
        "id": "fvw5A76eQ5Iw"
      },
      "source": [
        "## importing libraries"
      ]
    },
    {
      "cell_type": "code",
      "execution_count": null,
      "metadata": {
        "id": "vBlTLdj4S4s6"
      },
      "outputs": [],
      "source": [
        "import pandas as pd\n",
        "import re\n",
        "import unicodedata\n",
        "import string\n",
        "import nltk\n",
        "from nltk.corpus import stopwords\n",
        "from nltk.corpus import wordnet\n",
        "from spellchecker import SpellChecker\n",
        "from nltk.stem.porter import PorterStemmer\n",
        "from nltk.stem import WordNetLemmatizer\n",
        "from nltk.tokenize import word_tokenize"
      ]
    },
    {
      "cell_type": "markdown",
      "metadata": {
        "id": "Dk0yCXueRE8I"
      },
      "source": [
        "## preparing dataset"
      ]
    },
    {
      "cell_type": "code",
      "execution_count": null,
      "metadata": {
        "id": "3R28sljOUkuA",
        "colab": {
          "base_uri": "https://localhost:8080/",
          "height": 206
        },
        "outputId": "994b1d1a-4b07-48e4-e7ab-249fe6ec1984"
      },
      "outputs": [
        {
          "output_type": "execute_result",
          "data": {
            "text/plain": [
              "                                               title  \\\n",
              "0  House Republicans Fret About Winning Their Hea...   \n",
              "1  Rift Between Officers and Residents as Killing...   \n",
              "2  Tyrus Wong, ‘Bambi’ Artist Thwarted by Racial ...   \n",
              "3  Among Deaths in 2016, a Heavy Toll in Pop Musi...   \n",
              "4  Kim Jong-un Says North Korea Is Preparing to T...   \n",
              "\n",
              "                                             article  \n",
              "0  WASHINGTON  —   Congressional Republicans have...  \n",
              "1  After the bullet shells get counted, the blood...  \n",
              "2  When Walt Disney’s “Bambi” opened in 1942, cri...  \n",
              "3  Death may be the great equalizer, but it isn’t...  \n",
              "4  SEOUL, South Korea  —   North Korea’s leader, ...  "
            ],
            "text/html": [
              "\n",
              "  <div id=\"df-9d85a073-2c60-44b6-a501-def33a7b8fb3\">\n",
              "    <div class=\"colab-df-container\">\n",
              "      <div>\n",
              "<style scoped>\n",
              "    .dataframe tbody tr th:only-of-type {\n",
              "        vertical-align: middle;\n",
              "    }\n",
              "\n",
              "    .dataframe tbody tr th {\n",
              "        vertical-align: top;\n",
              "    }\n",
              "\n",
              "    .dataframe thead th {\n",
              "        text-align: right;\n",
              "    }\n",
              "</style>\n",
              "<table border=\"1\" class=\"dataframe\">\n",
              "  <thead>\n",
              "    <tr style=\"text-align: right;\">\n",
              "      <th></th>\n",
              "      <th>title</th>\n",
              "      <th>article</th>\n",
              "    </tr>\n",
              "  </thead>\n",
              "  <tbody>\n",
              "    <tr>\n",
              "      <th>0</th>\n",
              "      <td>House Republicans Fret About Winning Their Hea...</td>\n",
              "      <td>WASHINGTON  —   Congressional Republicans have...</td>\n",
              "    </tr>\n",
              "    <tr>\n",
              "      <th>1</th>\n",
              "      <td>Rift Between Officers and Residents as Killing...</td>\n",
              "      <td>After the bullet shells get counted, the blood...</td>\n",
              "    </tr>\n",
              "    <tr>\n",
              "      <th>2</th>\n",
              "      <td>Tyrus Wong, ‘Bambi’ Artist Thwarted by Racial ...</td>\n",
              "      <td>When Walt Disney’s “Bambi” opened in 1942, cri...</td>\n",
              "    </tr>\n",
              "    <tr>\n",
              "      <th>3</th>\n",
              "      <td>Among Deaths in 2016, a Heavy Toll in Pop Musi...</td>\n",
              "      <td>Death may be the great equalizer, but it isn’t...</td>\n",
              "    </tr>\n",
              "    <tr>\n",
              "      <th>4</th>\n",
              "      <td>Kim Jong-un Says North Korea Is Preparing to T...</td>\n",
              "      <td>SEOUL, South Korea  —   North Korea’s leader, ...</td>\n",
              "    </tr>\n",
              "  </tbody>\n",
              "</table>\n",
              "</div>\n",
              "      <button class=\"colab-df-convert\" onclick=\"convertToInteractive('df-9d85a073-2c60-44b6-a501-def33a7b8fb3')\"\n",
              "              title=\"Convert this dataframe to an interactive table.\"\n",
              "              style=\"display:none;\">\n",
              "        \n",
              "  <svg xmlns=\"http://www.w3.org/2000/svg\" height=\"24px\"viewBox=\"0 0 24 24\"\n",
              "       width=\"24px\">\n",
              "    <path d=\"M0 0h24v24H0V0z\" fill=\"none\"/>\n",
              "    <path d=\"M18.56 5.44l.94 2.06.94-2.06 2.06-.94-2.06-.94-.94-2.06-.94 2.06-2.06.94zm-11 1L8.5 8.5l.94-2.06 2.06-.94-2.06-.94L8.5 2.5l-.94 2.06-2.06.94zm10 10l.94 2.06.94-2.06 2.06-.94-2.06-.94-.94-2.06-.94 2.06-2.06.94z\"/><path d=\"M17.41 7.96l-1.37-1.37c-.4-.4-.92-.59-1.43-.59-.52 0-1.04.2-1.43.59L10.3 9.45l-7.72 7.72c-.78.78-.78 2.05 0 2.83L4 21.41c.39.39.9.59 1.41.59.51 0 1.02-.2 1.41-.59l7.78-7.78 2.81-2.81c.8-.78.8-2.07 0-2.86zM5.41 20L4 18.59l7.72-7.72 1.47 1.35L5.41 20z\"/>\n",
              "  </svg>\n",
              "      </button>\n",
              "      \n",
              "  <style>\n",
              "    .colab-df-container {\n",
              "      display:flex;\n",
              "      flex-wrap:wrap;\n",
              "      gap: 12px;\n",
              "    }\n",
              "\n",
              "    .colab-df-convert {\n",
              "      background-color: #E8F0FE;\n",
              "      border: none;\n",
              "      border-radius: 50%;\n",
              "      cursor: pointer;\n",
              "      display: none;\n",
              "      fill: #1967D2;\n",
              "      height: 32px;\n",
              "      padding: 0 0 0 0;\n",
              "      width: 32px;\n",
              "    }\n",
              "\n",
              "    .colab-df-convert:hover {\n",
              "      background-color: #E2EBFA;\n",
              "      box-shadow: 0px 1px 2px rgba(60, 64, 67, 0.3), 0px 1px 3px 1px rgba(60, 64, 67, 0.15);\n",
              "      fill: #174EA6;\n",
              "    }\n",
              "\n",
              "    [theme=dark] .colab-df-convert {\n",
              "      background-color: #3B4455;\n",
              "      fill: #D2E3FC;\n",
              "    }\n",
              "\n",
              "    [theme=dark] .colab-df-convert:hover {\n",
              "      background-color: #434B5C;\n",
              "      box-shadow: 0px 1px 3px 1px rgba(0, 0, 0, 0.15);\n",
              "      filter: drop-shadow(0px 1px 2px rgba(0, 0, 0, 0.3));\n",
              "      fill: #FFFFFF;\n",
              "    }\n",
              "  </style>\n",
              "\n",
              "      <script>\n",
              "        const buttonEl =\n",
              "          document.querySelector('#df-9d85a073-2c60-44b6-a501-def33a7b8fb3 button.colab-df-convert');\n",
              "        buttonEl.style.display =\n",
              "          google.colab.kernel.accessAllowed ? 'block' : 'none';\n",
              "\n",
              "        async function convertToInteractive(key) {\n",
              "          const element = document.querySelector('#df-9d85a073-2c60-44b6-a501-def33a7b8fb3');\n",
              "          const dataTable =\n",
              "            await google.colab.kernel.invokeFunction('convertToInteractive',\n",
              "                                                     [key], {});\n",
              "          if (!dataTable) return;\n",
              "\n",
              "          const docLinkHtml = 'Like what you see? Visit the ' +\n",
              "            '<a target=\"_blank\" href=https://colab.research.google.com/notebooks/data_table.ipynb>data table notebook</a>'\n",
              "            + ' to learn more about interactive tables.';\n",
              "          element.innerHTML = '';\n",
              "          dataTable['output_type'] = 'display_data';\n",
              "          await google.colab.output.renderOutput(dataTable, element);\n",
              "          const docLink = document.createElement('div');\n",
              "          docLink.innerHTML = docLinkHtml;\n",
              "          element.appendChild(docLink);\n",
              "        }\n",
              "      </script>\n",
              "    </div>\n",
              "  </div>\n",
              "  "
            ]
          },
          "metadata": {},
          "execution_count": 150
        }
      ],
      "source": [
        "df = pd.read_csv('drive/MyDrive/datasets/articles1.csv', nrows=587)\n",
        "\n",
        "df=df[['title', 'content']]\n",
        "df.rename({'content':'article'}, axis=1, inplace=True)\n",
        "df.head()"
      ]
    },
    {
      "cell_type": "markdown",
      "metadata": {
        "id": "go7mimdGRLlg"
      },
      "source": [
        "## preprocessing data"
      ]
    },
    {
      "cell_type": "code",
      "execution_count": null,
      "metadata": {
        "id": "mp3NcQh4pjNt"
      },
      "outputs": [],
      "source": [
        "from drive.MyDrive.datasets.contradictions import contractions_dict\n",
        "# helper functions\n",
        "\n",
        "def expand_contradiction(article):\n",
        "  contradiction_re = re.compile('|'.join(contractions_dict.keys()))       # making regex pattern\n",
        "  replace = lambda match: contractions_dict[match.group(0)]               # function to return matched value for contradiction\n",
        "  return contradiction_re.sub(replace, article)                           # replacing the contradictions\n",
        "\n",
        "\n",
        "def remove_punctuation(article):\n",
        "  punctuation = string.punctuation + '\\n' + '“' + '”' + '—' + '’'\n",
        "  return article.translate(str.maketrans('', '', punctuation))\n",
        "\n",
        "\n",
        "def remove_emoji(article):\n",
        "  emoji_pattern = re.compile(\"[\"\n",
        "                           u\"\\U0001F600-\\U0001F64F\"  # emoticons\n",
        "                           u\"\\U0001F300-\\U0001F5FF\"  # symbols & pictographs\n",
        "                           u\"\\U0001F680-\\U0001F6FF\"  # transport & map symbols\n",
        "                           u\"\\U0001F1E0-\\U0001F1FF\"  # flags (iOS)\n",
        "                           u\"\\U00002702-\\U000027B0\"\n",
        "                           u\"\\U000024C2-\\U0001F251\"\n",
        "                           \"]+\", flags=re.UNICODE)\n",
        "  return emoji_pattern.sub(r'', article)\n",
        "\n",
        "\n",
        "def correct_spellings(article):\n",
        "  spell = SpellChecker()\n",
        "  words = article.split()\n",
        "  corrected_words = []\n",
        "  misspelled_words = spell.unknown(words)\n",
        "\n",
        "  for word in words:\n",
        "    if word in misspelled_words:\n",
        "      corrected_words.append(str(spell.correction(word)))\n",
        "    else:\n",
        "      corrected_words.append(str(word))\n",
        "  return ' '.join(corrected_words)\n",
        "\n",
        "\n",
        "STOPWORDS  = set(stopwords.words('english'))"
      ]
    },
    {
      "cell_type": "code",
      "execution_count": null,
      "metadata": {
        "id": "IOx6lJkcnbnj"
      },
      "outputs": [],
      "source": [
        "def preprocessing(articles):\n",
        "  articles = articles.str.lower()\n",
        "  articles = articles.apply(lambda x: re.sub('<.*?>', '', x))\n",
        "  articles=articles.apply(lambda x: re.sub(r'\\S+@\\S+', '', x))\n",
        "  articles=articles.apply(lambda x: re.sub(r'https?://\\S+ | www\\.\\S+', '', x))\n",
        "  articles = articles.apply(lambda x: expand_contradiction(x))\n",
        "  articles = articles.apply(remove_punctuation)\n",
        "  articles = articles.apply(remove_emoji)\n",
        "  articles = articles.apply(lambda x: re.sub(' +', ' ', x).strip())\n",
        "  articles = articles.apply(lambda x: ' '.join(word for word in x.split() if word not in STOPWORDS))\n",
        "  return articles\n",
        "\n",
        "\n",
        "# Stemming\n",
        "def stem_words(article):\n",
        "  stemmer = PorterStemmer()\n",
        "  token_words = word_tokenize(article)   \n",
        "  return ' '.join([stemmer.stem(word) for word in token_words])\n",
        "\n",
        "\n",
        "# Lemmatization\n",
        "def lemmatize_words(article):\n",
        "  lemmatizer = WordNetLemmatizer()\n",
        "  token_words = word_tokenize(article)\n",
        "  result = []\n",
        "  for word,pos in nltk.pos_tag(token_words):\n",
        "    pos = pos[0].lower()\n",
        "    pos = 'n' if pos not in list('arnv') else pos\n",
        "    result.append(lemmatizer.lemmatize(word, pos))\n",
        "  return ' '.join(result)"
      ]
    },
    {
      "cell_type": "code",
      "execution_count": null,
      "metadata": {
        "colab": {
          "base_uri": "https://localhost:8080/",
          "height": 337
        },
        "id": "pggYhrO_A7Bi",
        "outputId": "5f761fe7-14c0-47e9-bdab-991c751429c0"
      },
      "outputs": [
        {
          "output_type": "execute_result",
          "data": {
            "text/plain": [
              "                                                 title  \\\n",
              "485  Trump Inspires Cheers, and Alarm, Around the W...   \n",
              "279  As Trump Berates News Media, a New Strategy Is...   \n",
              "252  6 Volkswagen Executives Charged as Company Ple...   \n",
              "295  Should Ivanka Trump the Woman Wear Ivanka Trum...   \n",
              "90   Trump Said ‘Torture Works.’ An Echo Is Feared ...   \n",
              "\n",
              "                                               article  \\\n",
              "485  SOFIA, Bulgaria  —   The inaugural meeting of ...   \n",
              "279  Well, that sure escalated quickly. “That” was ...   \n",
              "252  WASHINGTON  —   Federal prosecutors announced ...   \n",
              "295  A few hours after her father’s news conference...   \n",
              "90   When the United Nations’ top   official tried ...   \n",
              "\n",
              "                                  article_preprocessed  \\\n",
              "485  sofia bulgaria inaugural meeting european trum...   \n",
              "279  well sure escalated quickly donald j trumps in...   \n",
              "252  washington federal prosecutors announced crimi...   \n",
              "295  hours fathers news conference wednesday trump ...   \n",
              "90   united nations top official tried inspect infa...   \n",
              "\n",
              "                                       article_stemmed  \\\n",
              "485  sofia bulgaria inaugur meet european trump soc...   \n",
              "279  well sure escal quickli donald j trump inaugur...   \n",
              "252  washington feder prosecutor announc crimin cha...   \n",
              "295  hour father news confer wednesday trump tower ...   \n",
              "90   unit nation top offici tri inspect infam priso...   \n",
              "\n",
              "                                    article_lemmatized  \n",
              "485  sofia bulgaria inaugural meet european trump s...  \n",
              "279  well sure escalate quickly donald j trump inau...  \n",
              "252  washington federal prosecutor announce crimina...  \n",
              "295  hour father news conference wednesday trump to...  \n",
              "90   united nation top official tried inspect infam...  "
            ],
            "text/html": [
              "\n",
              "  <div id=\"df-3d88cc5e-e768-42cf-bd49-a51a674d48e8\">\n",
              "    <div class=\"colab-df-container\">\n",
              "      <div>\n",
              "<style scoped>\n",
              "    .dataframe tbody tr th:only-of-type {\n",
              "        vertical-align: middle;\n",
              "    }\n",
              "\n",
              "    .dataframe tbody tr th {\n",
              "        vertical-align: top;\n",
              "    }\n",
              "\n",
              "    .dataframe thead th {\n",
              "        text-align: right;\n",
              "    }\n",
              "</style>\n",
              "<table border=\"1\" class=\"dataframe\">\n",
              "  <thead>\n",
              "    <tr style=\"text-align: right;\">\n",
              "      <th></th>\n",
              "      <th>title</th>\n",
              "      <th>article</th>\n",
              "      <th>article_preprocessed</th>\n",
              "      <th>article_stemmed</th>\n",
              "      <th>article_lemmatized</th>\n",
              "    </tr>\n",
              "  </thead>\n",
              "  <tbody>\n",
              "    <tr>\n",
              "      <th>485</th>\n",
              "      <td>Trump Inspires Cheers, and Alarm, Around the W...</td>\n",
              "      <td>SOFIA, Bulgaria  —   The inaugural meeting of ...</td>\n",
              "      <td>sofia bulgaria inaugural meeting european trum...</td>\n",
              "      <td>sofia bulgaria inaugur meet european trump soc...</td>\n",
              "      <td>sofia bulgaria inaugural meet european trump s...</td>\n",
              "    </tr>\n",
              "    <tr>\n",
              "      <th>279</th>\n",
              "      <td>As Trump Berates News Media, a New Strategy Is...</td>\n",
              "      <td>Well, that sure escalated quickly. “That” was ...</td>\n",
              "      <td>well sure escalated quickly donald j trumps in...</td>\n",
              "      <td>well sure escal quickli donald j trump inaugur...</td>\n",
              "      <td>well sure escalate quickly donald j trump inau...</td>\n",
              "    </tr>\n",
              "    <tr>\n",
              "      <th>252</th>\n",
              "      <td>6 Volkswagen Executives Charged as Company Ple...</td>\n",
              "      <td>WASHINGTON  —   Federal prosecutors announced ...</td>\n",
              "      <td>washington federal prosecutors announced crimi...</td>\n",
              "      <td>washington feder prosecutor announc crimin cha...</td>\n",
              "      <td>washington federal prosecutor announce crimina...</td>\n",
              "    </tr>\n",
              "    <tr>\n",
              "      <th>295</th>\n",
              "      <td>Should Ivanka Trump the Woman Wear Ivanka Trum...</td>\n",
              "      <td>A few hours after her father’s news conference...</td>\n",
              "      <td>hours fathers news conference wednesday trump ...</td>\n",
              "      <td>hour father news confer wednesday trump tower ...</td>\n",
              "      <td>hour father news conference wednesday trump to...</td>\n",
              "    </tr>\n",
              "    <tr>\n",
              "      <th>90</th>\n",
              "      <td>Trump Said ‘Torture Works.’ An Echo Is Feared ...</td>\n",
              "      <td>When the United Nations’ top   official tried ...</td>\n",
              "      <td>united nations top official tried inspect infa...</td>\n",
              "      <td>unit nation top offici tri inspect infam priso...</td>\n",
              "      <td>united nation top official tried inspect infam...</td>\n",
              "    </tr>\n",
              "  </tbody>\n",
              "</table>\n",
              "</div>\n",
              "      <button class=\"colab-df-convert\" onclick=\"convertToInteractive('df-3d88cc5e-e768-42cf-bd49-a51a674d48e8')\"\n",
              "              title=\"Convert this dataframe to an interactive table.\"\n",
              "              style=\"display:none;\">\n",
              "        \n",
              "  <svg xmlns=\"http://www.w3.org/2000/svg\" height=\"24px\"viewBox=\"0 0 24 24\"\n",
              "       width=\"24px\">\n",
              "    <path d=\"M0 0h24v24H0V0z\" fill=\"none\"/>\n",
              "    <path d=\"M18.56 5.44l.94 2.06.94-2.06 2.06-.94-2.06-.94-.94-2.06-.94 2.06-2.06.94zm-11 1L8.5 8.5l.94-2.06 2.06-.94-2.06-.94L8.5 2.5l-.94 2.06-2.06.94zm10 10l.94 2.06.94-2.06 2.06-.94-2.06-.94-.94-2.06-.94 2.06-2.06.94z\"/><path d=\"M17.41 7.96l-1.37-1.37c-.4-.4-.92-.59-1.43-.59-.52 0-1.04.2-1.43.59L10.3 9.45l-7.72 7.72c-.78.78-.78 2.05 0 2.83L4 21.41c.39.39.9.59 1.41.59.51 0 1.02-.2 1.41-.59l7.78-7.78 2.81-2.81c.8-.78.8-2.07 0-2.86zM5.41 20L4 18.59l7.72-7.72 1.47 1.35L5.41 20z\"/>\n",
              "  </svg>\n",
              "      </button>\n",
              "      \n",
              "  <style>\n",
              "    .colab-df-container {\n",
              "      display:flex;\n",
              "      flex-wrap:wrap;\n",
              "      gap: 12px;\n",
              "    }\n",
              "\n",
              "    .colab-df-convert {\n",
              "      background-color: #E8F0FE;\n",
              "      border: none;\n",
              "      border-radius: 50%;\n",
              "      cursor: pointer;\n",
              "      display: none;\n",
              "      fill: #1967D2;\n",
              "      height: 32px;\n",
              "      padding: 0 0 0 0;\n",
              "      width: 32px;\n",
              "    }\n",
              "\n",
              "    .colab-df-convert:hover {\n",
              "      background-color: #E2EBFA;\n",
              "      box-shadow: 0px 1px 2px rgba(60, 64, 67, 0.3), 0px 1px 3px 1px rgba(60, 64, 67, 0.15);\n",
              "      fill: #174EA6;\n",
              "    }\n",
              "\n",
              "    [theme=dark] .colab-df-convert {\n",
              "      background-color: #3B4455;\n",
              "      fill: #D2E3FC;\n",
              "    }\n",
              "\n",
              "    [theme=dark] .colab-df-convert:hover {\n",
              "      background-color: #434B5C;\n",
              "      box-shadow: 0px 1px 3px 1px rgba(0, 0, 0, 0.15);\n",
              "      filter: drop-shadow(0px 1px 2px rgba(0, 0, 0, 0.3));\n",
              "      fill: #FFFFFF;\n",
              "    }\n",
              "  </style>\n",
              "\n",
              "      <script>\n",
              "        const buttonEl =\n",
              "          document.querySelector('#df-3d88cc5e-e768-42cf-bd49-a51a674d48e8 button.colab-df-convert');\n",
              "        buttonEl.style.display =\n",
              "          google.colab.kernel.accessAllowed ? 'block' : 'none';\n",
              "\n",
              "        async function convertToInteractive(key) {\n",
              "          const element = document.querySelector('#df-3d88cc5e-e768-42cf-bd49-a51a674d48e8');\n",
              "          const dataTable =\n",
              "            await google.colab.kernel.invokeFunction('convertToInteractive',\n",
              "                                                     [key], {});\n",
              "          if (!dataTable) return;\n",
              "\n",
              "          const docLinkHtml = 'Like what you see? Visit the ' +\n",
              "            '<a target=\"_blank\" href=https://colab.research.google.com/notebooks/data_table.ipynb>data table notebook</a>'\n",
              "            + ' to learn more about interactive tables.';\n",
              "          element.innerHTML = '';\n",
              "          dataTable['output_type'] = 'display_data';\n",
              "          await google.colab.output.renderOutput(dataTable, element);\n",
              "          const docLink = document.createElement('div');\n",
              "          docLink.innerHTML = docLinkHtml;\n",
              "          element.appendChild(docLink);\n",
              "        }\n",
              "      </script>\n",
              "    </div>\n",
              "  </div>\n",
              "  "
            ]
          },
          "metadata": {},
          "execution_count": 153
        }
      ],
      "source": [
        "df['article_preprocessed'] = preprocessing(df.article)\n",
        "df['article_stemmed'] = df['article_preprocessed'].apply(stem_words)\n",
        "df['article_lemmatized'] = df['article_preprocessed'].apply(lemmatize_words)\n",
        "\n",
        "df.to_csv('drive/MyDrive/datasets/articles.csv', index=False)\n",
        "df.sample(5)"
      ]
    },
    {
      "cell_type": "code",
      "source": [
        "articles = df['article_preprocessed']\n",
        "new_article = \"mother obliged travel false identities state affairs known among chinese immigrants paper son hope circumventing chinese exclusion act 1882 signed law president chester arthur act drastically curtailed number chinese people allowed enter country among earliest united states laws impose severe restrictions immigration 1906 unforeseen loophole opened form san francisco earthquake fire huge number municipal documents including birth immigration records destroyed many newly arrived chinese capitalized loss maintaining born san francisco fire united states citizens entitled bring relatives case gen yeo father paper sons posing relatives attuned deception united states immigration officials put chinese arrivals formidable inquisition ensure claimed questions came like gunfire direction village face many windows house house rice bin wide well deep trees village lakes shops name sponsoring relative interrogated separately answers match new arrival major mistake series smaller ones could mean deportation stand chance passing aspirants memorized rigorous dossiers known coaching papers ensuing interrogation hard enough adults gen yeo would undergo alone dec 30 1920 month sea wongs landed angel island immigration station elder mr wong traveling merchant named look get son look tai yow angel island considered ellis island west coast lisa see author gold mountain 1995 nonfiction chronicle family said interview 2016 however continued goal really different ellis island supposed welcoming angel island opened specifically keep chinese mr wongs father previously lived united states look get able clear immigration quickly new arrival gen yeo detained island nearly month child among immigrants held scared half death cried mr wong recalled tyrus documentary directed pamela tom premiered 2015 every day miserable miserable hated place jan 27 1921 presence interpreter stenographer young gen yeo posing look tai yow interrogated three inspectors father already questioned gen yeo well prepared answered without error sacramento joined father schoolteacher americanized tai yow tyrus known tyrus wong ever soon afterward father son separated elder mr wong moved los angeles seek work reasons lost time could give son tyrus lived sacramento boardinghouse attending elementary school two years later possibly tyrus traveled los angeles join father found work\""
      ],
      "metadata": {
        "id": "ZQJdsRkMDptq"
      },
      "execution_count": null,
      "outputs": []
    },
    {
      "cell_type": "markdown",
      "metadata": {
        "id": "SY4hRe0J4pyr"
      },
      "source": [
        "## Plagiarism Checker using N-Gram Model"
      ]
    },
    {
      "cell_type": "code",
      "execution_count": null,
      "metadata": {
        "id": "TMlimNJNyF7Q"
      },
      "outputs": [],
      "source": [
        "import re\n",
        "from nltk.util import ngrams, pad_sequence, everygrams\n",
        "from nltk.tokenize import word_tokenize\n",
        "from nltk.lm import MLE, WittenBellInterpolated\n",
        "import numpy as np\n",
        "import plotly.graph_objects as go\n",
        "from scipy.ndimage import gaussian_filter\n",
        "\n",
        "def get_ngram_score(article, new_article = new_article):\n",
        "  train_text = article\n",
        "\n",
        "  # set ngram number\n",
        "  n = 4\n",
        "\n",
        "  # pad the text and tokenize\n",
        "  training_data = list(pad_sequence(word_tokenize(train_text), n, \n",
        "                                    pad_left=True, \n",
        "                                    left_pad_symbol=\"<s>\"))\n",
        "\n",
        "  # generate ngrams\n",
        "  ngrams = list(everygrams(training_data, max_len=n))\n",
        "  # print(\"Number of ngrams:\", len(ngrams))\n",
        "\n",
        "  # build ngram language models\n",
        "  model = WittenBellInterpolated(n)\n",
        "  model.fit([ngrams], vocabulary_text=training_data)\n",
        "  # print(model.vocab)\n",
        "\n",
        "\n",
        "  test_text = new_article\n",
        "\n",
        "  # Tokenize and pad the text\n",
        "  testing_data = list(pad_sequence(word_tokenize(test_text), n, \n",
        "                                  pad_left=True,\n",
        "                                  left_pad_symbol=\"<s>\"))\n",
        "  # print(\"Length of test data:\", len(testing_data))\n",
        "\n",
        "  # assign scores\n",
        "  scores = []\n",
        "  for i, item in enumerate(testing_data[n-1:]):\n",
        "      s = model.score(item, testing_data[i:i+n-1])\n",
        "      scores.append(s)\n",
        "\n",
        "  scores_np = np.array(scores)\n",
        "  # print(max(scores_np))\n",
        "  return scores_np"
      ]
    },
    {
      "cell_type": "code",
      "source": [
        "max_ngram_score, article_idx = -1, -1\n",
        "\n",
        "for i in range(len(articles)):\n",
        "  score = max(get_ngram_score(articles[i]))\n",
        "\n",
        "  if score>max_ngram_score:\n",
        "    max_ngram_score = score\n",
        "    article_idx = i\n",
        "\n",
        "print(\"Ngram score :\", max_ngram_score)\n",
        "print(\"Plagiarised from article no : \", article_idx)"
      ],
      "metadata": {
        "colab": {
          "base_uri": "https://localhost:8080/"
        },
        "id": "mC7uroLrLmzM",
        "outputId": "918d5876-2a5e-40bb-d5ff-4784a2ee7d5e"
      },
      "execution_count": null,
      "outputs": [
        {
          "output_type": "stream",
          "name": "stdout",
          "text": [
            "Ngram score : 0.9723873204556711\n",
            "Plagiarised from article no :  2\n"
          ]
        }
      ]
    },
    {
      "cell_type": "code",
      "source": [
        "train_text = articles[article_idx]\n",
        "\n",
        "# set ngram number\n",
        "n = 4\n",
        "\n",
        "# pad the text and tokenize\n",
        "training_data = list(pad_sequence(word_tokenize(train_text), n, \n",
        "                                  pad_left=True, \n",
        "                                  left_pad_symbol=\"<s>\"))\n",
        "\n",
        "# generate ngrams\n",
        "ngrams = list(everygrams(training_data, max_len=n))\n",
        "print(\"Number of ngrams:\", len(ngrams))\n",
        "\n",
        "# build ngram language models\n",
        "model = WittenBellInterpolated(n)\n",
        "model.fit([ngrams], vocabulary_text=training_data)\n",
        "print(model.vocab)\n",
        "\n",
        "\n",
        "test_text = new_article\n",
        "\n",
        "# Tokenize and pad the text\n",
        "testing_data = list(pad_sequence(word_tokenize(test_text), n, \n",
        "                                pad_left=True,\n",
        "                                left_pad_symbol=\"<s>\"))\n",
        "print(\"Length of test data:\", len(testing_data))\n",
        "\n",
        "# assign scores\n",
        "scores = []\n",
        "for i, item in enumerate(testing_data[n-1:]):\n",
        "    s = model.score(item, testing_data[i:i+n-1])\n",
        "    scores.append(s)\n",
        "\n",
        "scores_np = np.array(scores)\n",
        "\n",
        "# set width and height\n",
        "width = 8\n",
        "height = np.ceil(len(testing_data)/width).astype(\"int32\")\n",
        "print(\"Width, Height:\", width, \",\", height)\n",
        "\n",
        "# copy scores to rectangular blank array\n",
        "a = np.zeros(width*height)\n",
        "a[:len(scores_np)] = scores_np\n",
        "diff = len(a) - len(scores_np)\n",
        "\n",
        "# apply gaussian smoothing for aesthetics\n",
        "a = gaussian_filter(a, sigma=1.0)\n",
        "\n",
        "# reshape to fit rectangle\n",
        "a = a.reshape(-1, width)\n",
        "\n",
        "# format labels\n",
        "labels = [\" \".join(testing_data[i:i+width]) for i in range(n-1, len(testing_data), width)]\n",
        "labels_individual = [x.split() for x in labels]\n",
        "labels_individual[-1] += [\"\"]*diff\n",
        "labels = [f\"{x:60.60}\" for x in labels]\n",
        "\n",
        "# create heatmap\n",
        "fig = go.Figure(data=go.Heatmap(\n",
        "                z=a, x0=0, dx=1,\n",
        "                y=labels, zmin=0, zmax=1,\n",
        "                customdata=labels_individual,\n",
        "                hovertemplate='%{customdata} <br><b>Score:%{z:.3f}<extra></extra>',\n",
        "                colorscale=\"burg\"))\n",
        "fig.update_layout({\"height\":height*28, \"width\":1000, \"font\":{\"family\":\"Courier New\"}})\n",
        "fig['layout']['yaxis']['autorange'] = \"reversed\"\n",
        "fig.show()"
      ],
      "metadata": {
        "colab": {
          "base_uri": "https://localhost:8080/",
          "height": 1000
        },
        "id": "hOnzyrA4Kgq2",
        "outputId": "76b164fa-3e3f-4700-f204-9e63a368ed5c"
      },
      "execution_count": null,
      "outputs": [
        {
          "output_type": "stream",
          "name": "stdout",
          "text": [
            "Number of ngrams: 5378\n",
            "<Vocabulary with cutoff=1 unk_label='<UNK>' and 831 items>\n",
            "Length of test data: 336\n",
            "Width, Height: 8 , 42\n"
          ]
        },
        {
          "output_type": "display_data",
          "data": {
            "text/html": [
              "<html>\n",
              "<head><meta charset=\"utf-8\" /></head>\n",
              "<body>\n",
              "    <div>            <script src=\"https://cdnjs.cloudflare.com/ajax/libs/mathjax/2.7.5/MathJax.js?config=TeX-AMS-MML_SVG\"></script><script type=\"text/javascript\">if (window.MathJax) {MathJax.Hub.Config({SVG: {font: \"STIX-Web\"}});}</script>                <script type=\"text/javascript\">window.PlotlyConfig = {MathJaxConfig: 'local'};</script>\n",
              "        <script src=\"https://cdn.plot.ly/plotly-2.8.3.min.js\"></script>                <div id=\"827561b5-a1c0-4df0-be49-ae95d4df5b3a\" class=\"plotly-graph-div\" style=\"height:1176px; width:1000px;\"></div>            <script type=\"text/javascript\">                                    window.PLOTLYENV=window.PLOTLYENV || {};                                    if (document.getElementById(\"827561b5-a1c0-4df0-be49-ae95d4df5b3a\")) {                    Plotly.newPlot(                        \"827561b5-a1c0-4df0-be49-ae95d4df5b3a\",                        [{\"colorscale\":[[0.0,\"rgb(255, 198, 196)\"],[0.16666666666666666,\"rgb(244, 163, 168)\"],[0.3333333333333333,\"rgb(227, 129, 145)\"],[0.5,\"rgb(204, 96, 125)\"],[0.6666666666666666,\"rgb(173, 70, 108)\"],[0.8333333333333334,\"rgb(139, 48, 88)\"],[1.0,\"rgb(103, 32, 68)\"]],\"customdata\":[[\"mother\",\"obliged\",\"travel\",\"false\",\"identities\",\"state\",\"affairs\",\"known\"],[\"among\",\"chinese\",\"immigrants\",\"paper\",\"son\",\"hope\",\"circumventing\",\"chinese\"],[\"exclusion\",\"act\",\"1882\",\"signed\",\"law\",\"president\",\"chester\",\"arthur\"],[\"act\",\"drastically\",\"curtailed\",\"number\",\"chinese\",\"people\",\"allowed\",\"enter\"],[\"country\",\"among\",\"earliest\",\"united\",\"states\",\"laws\",\"impose\",\"severe\"],[\"restrictions\",\"immigration\",\"1906\",\"unforeseen\",\"loophole\",\"opened\",\"form\",\"san\"],[\"francisco\",\"earthquake\",\"fire\",\"huge\",\"number\",\"municipal\",\"documents\",\"including\"],[\"birth\",\"immigration\",\"records\",\"destroyed\",\"many\",\"newly\",\"arrived\",\"chinese\"],[\"capitalized\",\"loss\",\"maintaining\",\"born\",\"san\",\"francisco\",\"fire\",\"united\"],[\"states\",\"citizens\",\"entitled\",\"bring\",\"relatives\",\"case\",\"gen\",\"yeo\"],[\"father\",\"paper\",\"sons\",\"posing\",\"relatives\",\"attuned\",\"deception\",\"united\"],[\"states\",\"immigration\",\"officials\",\"put\",\"chinese\",\"arrivals\",\"formidable\",\"inquisition\"],[\"ensure\",\"claimed\",\"questions\",\"came\",\"like\",\"gunfire\",\"direction\",\"village\"],[\"face\",\"many\",\"windows\",\"house\",\"house\",\"rice\",\"bin\",\"wide\"],[\"well\",\"deep\",\"trees\",\"village\",\"lakes\",\"shops\",\"name\",\"sponsoring\"],[\"relative\",\"interrogated\",\"separately\",\"answers\",\"match\",\"new\",\"arrival\",\"major\"],[\"mistake\",\"series\",\"smaller\",\"ones\",\"could\",\"mean\",\"deportation\",\"stand\"],[\"chance\",\"passing\",\"aspirants\",\"memorized\",\"rigorous\",\"dossiers\",\"known\",\"coaching\"],[\"papers\",\"ensuing\",\"interrogation\",\"hard\",\"enough\",\"adults\",\"gen\",\"yeo\"],[\"would\",\"undergo\",\"alone\",\"dec\",\"30\",\"1920\",\"month\",\"sea\"],[\"wongs\",\"landed\",\"angel\",\"island\",\"immigration\",\"station\",\"elder\",\"mr\"],[\"wong\",\"traveling\",\"merchant\",\"named\",\"look\",\"get\",\"son\",\"look\"],[\"tai\",\"yow\",\"angel\",\"island\",\"considered\",\"ellis\",\"island\",\"west\"],[\"coast\",\"lisa\",\"see\",\"author\",\"gold\",\"mountain\",\"1995\",\"nonfiction\"],[\"chronicle\",\"family\",\"said\",\"interview\",\"2016\",\"however\",\"continued\",\"goal\"],[\"really\",\"different\",\"ellis\",\"island\",\"supposed\",\"welcoming\",\"angel\",\"island\"],[\"opened\",\"specifically\",\"keep\",\"chinese\",\"mr\",\"wongs\",\"father\",\"previously\"],[\"lived\",\"united\",\"states\",\"look\",\"get\",\"able\",\"clear\",\"immigration\"],[\"quickly\",\"new\",\"arrival\",\"gen\",\"yeo\",\"detained\",\"island\",\"nearly\"],[\"month\",\"child\",\"among\",\"immigrants\",\"held\",\"scared\",\"half\",\"death\"],[\"cried\",\"mr\",\"wong\",\"recalled\",\"tyrus\",\"documentary\",\"directed\",\"pamela\"],[\"tom\",\"premiered\",\"2015\",\"every\",\"day\",\"miserable\",\"miserable\",\"hated\"],[\"place\",\"jan\",\"27\",\"1921\",\"presence\",\"interpreter\",\"stenographer\",\"young\"],[\"gen\",\"yeo\",\"posing\",\"look\",\"tai\",\"yow\",\"interrogated\",\"three\"],[\"inspectors\",\"father\",\"already\",\"questioned\",\"gen\",\"yeo\",\"well\",\"prepared\"],[\"answered\",\"without\",\"error\",\"sacramento\",\"joined\",\"father\",\"schoolteacher\",\"americanized\"],[\"tai\",\"yow\",\"tyrus\",\"known\",\"tyrus\",\"wong\",\"ever\",\"soon\"],[\"afterward\",\"father\",\"son\",\"separated\",\"elder\",\"mr\",\"wong\",\"moved\"],[\"los\",\"angeles\",\"seek\",\"work\",\"reasons\",\"lost\",\"time\",\"could\"],[\"give\",\"son\",\"tyrus\",\"lived\",\"sacramento\",\"boardinghouse\",\"attending\",\"elementary\"],[\"school\",\"two\",\"years\",\"later\",\"possibly\",\"tyrus\",\"traveled\",\"los\"],[\"angeles\",\"join\",\"father\",\"found\",\"work\",\"\",\"\",\"\"]],\"dx\":1,\"hovertemplate\":\"%{customdata} <br><b>Score:%{z:.3f}<extra></extra>\",\"x0\":0,\"y\":[\"mother obliged travel false identities state affairs known  \",\"among chinese immigrants paper son hope circumventing chines\",\"exclusion act 1882 signed law president chester arthur      \",\"act drastically curtailed number chinese people allowed ente\",\"country among earliest united states laws impose severe     \",\"restrictions immigration 1906 unforeseen loophole opened for\",\"francisco earthquake fire huge number municipal documents in\",\"birth immigration records destroyed many newly arrived chine\",\"capitalized loss maintaining born san francisco fire united \",\"states citizens entitled bring relatives case gen yeo       \",\"father paper sons posing relatives attuned deception united \",\"states immigration officials put chinese arrivals formidable\",\"ensure claimed questions came like gunfire direction village\",\"face many windows house house rice bin wide                 \",\"well deep trees village lakes shops name sponsoring         \",\"relative interrogated separately answers match new arrival m\",\"mistake series smaller ones could mean deportation stand    \",\"chance passing aspirants memorized rigorous dossiers known c\",\"papers ensuing interrogation hard enough adults gen yeo     \",\"would undergo alone dec 30 1920 month sea                   \",\"wongs landed angel island immigration station elder mr      \",\"wong traveling merchant named look get son look             \",\"tai yow angel island considered ellis island west           \",\"coast lisa see author gold mountain 1995 nonfiction         \",\"chronicle family said interview 2016 however continued goal \",\"really different ellis island supposed welcoming angel islan\",\"opened specifically keep chinese mr wongs father previously \",\"lived united states look get able clear immigration         \",\"quickly new arrival gen yeo detained island nearly          \",\"month child among immigrants held scared half death         \",\"cried mr wong recalled tyrus documentary directed pamela    \",\"tom premiered 2015 every day miserable miserable hated      \",\"place jan 27 1921 presence interpreter stenographer young   \",\"gen yeo posing look tai yow interrogated three              \",\"inspectors father already questioned gen yeo well prepared  \",\"answered without error sacramento joined father schoolteache\",\"tai yow tyrus known tyrus wong ever soon                    \",\"afterward father son separated elder mr wong moved          \",\"los angeles seek work reasons lost time could               \",\"give son tyrus lived sacramento boardinghouse attending elem\",\"school two years later possibly tyrus traveled los          \",\"angeles join father found work                              \"],\"z\":[[0.08523634016070852,0.28352629184229916,0.5926422981177446,0.8003965943174483,0.8648979927502511,0.8740309665880124,0.8697657464472244,0.8478416504939513],[0.8082100181762581,0.7640151721362053,0.7382796361106244,0.760093435535979,0.7822200821512595,0.7942747563387961,0.816108738860785,0.8274725448643223],[0.8235200078421738,0.832698523559508,0.8441379667933407,0.8594790878988214,0.871703877745176,0.8748079359966194,0.8748125260258891,0.8717409060663213],[0.8599988604076282,0.8498981423653023,0.8561641537381665,0.8505239231423838,0.8198209112176069,0.8004518972525003,0.8195041596933893,0.8498996055565378],[0.8509829096896805,0.8268893656175123,0.8248175180192008,0.8531450534604241,0.8297105367789681,0.7716295619282432,0.8042783172582172,0.8581935684715123],[0.8684106416794342,0.8510021219171451,0.8352780768037457,0.850556522883822,0.8652523628796441,0.8548695809494022,0.8447524466324852,0.8580181394500095],[0.8322783999416523,0.7773371764357946,0.7957226801369219,0.8319770798431213,0.8436441309053488,0.8464977709146992,0.8563339766421145,0.8562011730643404],[0.8445951908401381,0.8359070364281145,0.8315471257460241,0.8459126170200806,0.8462336092620483,0.8259126544353734,0.8241772269904459,0.8287459036677647],[0.8269232360405587,0.8475253861658798,0.8660075394020024,0.8623765280871973,0.8529959259221636,0.8189578708746692,0.7661578178808259,0.7908371763189421],[0.8052487270217499,0.7671783677131587,0.800364583483218,0.8401860956095246,0.8341520678247254,0.8391597136492325,0.8635231401182606,0.8176974472348362],[0.6661464688073315,0.5954924304380358,0.7000364273986014,0.8055207116090807,0.8276549748916622,0.8349460719852642,0.8601275009052505,0.8759523868529162],[0.8296411050557386,0.7480001706802952,0.7640480410675785,0.8286031069222745,0.8415920648724873,0.8301895239052255,0.848060844837998,0.869049886288441],[0.874317408778313,0.8714422110141624,0.8562316096751341,0.8297780505572049,0.81073191560771,0.8130849280029006,0.8277139652547172,0.8240411516160853],[0.8215862193681522,0.8277394053220793,0.8172173269183302,0.8051049447437304,0.8021745532590723,0.8179869785971745,0.849880062432551,0.8668648196719609],[0.859615922493091,0.8498109259828179,0.8555203857954002,0.8516173328113843,0.8412150974888212,0.8499360025425655,0.8480128013793999,0.8371180572789751],[0.8490599601600073,0.8549462927802166,0.8497634073711854,0.8598365174784741,0.8695780799047186,0.8584588821899196,0.8164485156736627,0.7789070483024815],[0.8001138427627936,0.8346433270505211,0.8455725810955345,0.8546783401128848,0.8491368058084579,0.8374743997802366,0.8521427451001762,0.8666804601732152],[0.8595912640749945,0.8501608728087583,0.8597027264069039,0.8683555478610996,0.8593292775426866,0.8451787536928312,0.8374010027905724,0.8343773448161896],[0.8518741305915125,0.8666720957591768,0.8595913386462936,0.8501847276624428,0.8604044814241146,0.8758566327745556,0.8817643190417568,0.8220701201274964],[0.6732638461429445,0.6220458215578306,0.7441348165349563,0.847584133359303,0.8692083928162977,0.8554759751752177,0.8296546383064358,0.8212738953677674],[0.8268532508445268,0.8316814174348934,0.8515031538122537,0.8229164396944689,0.7514480368976711,0.7706503295617104,0.847018974753768,0.869746381007529],[0.7651016153729466,0.6501633016241088,0.7274496438183053,0.8225402630189443,0.8190005975522581,0.7794471895934549,0.7526064374404269,0.7724319088975389],[0.805680234350919,0.7661796382298448,0.693702007391657,0.7171819281974404,0.7503757726814941,0.8033204588602452,0.8200600768698838,0.7913434748861063],[0.820749474535454,0.8577511414617849,0.8514960009376846,0.8377203108793674,0.8521511095142147,0.8666804850303149,0.859581034105432,0.84980046175126],[0.8551145648724368,0.8457540392933859,0.8076042543432618,0.766641950119539,0.7644297688658983,0.8191550737405793,0.8631307292194348,0.8705388708856747],[0.8567869621169608,0.8363568673281812,0.832731141140485,0.8172209463882578,0.7893082958527965,0.8237136364455186,0.8647690912325281,0.8283751628288338],[0.7556182520358059,0.7742063564147791,0.8332095304827156,0.8366253700360203,0.791222221173397,0.7326322418097891,0.7011603367465316,0.7491320958878398],[0.8146733533696413,0.8390061408052275,0.809769646669714,0.7394825584867746,0.7287662252887435,0.7652632819925267,0.8187222348976291,0.8370691782507822],[0.81724433682843,0.8103170809489395,0.8032756085591006,0.796744620709321,0.7882146937901765,0.7535086080197826,0.7750419100999979,0.8105716213165743],[0.822811148305066,0.8105443327336124,0.7945297210480564,0.7966351723580595,0.8217933693060979,0.8539867404698611,0.8668420852562564,0.8550236162486737],[0.8433937648173658,0.847841447494941,0.8051224735404678,0.7343811784052727,0.6988671335919903,0.67646186261643,0.7586459883537008,0.845660689347028],[0.8575731798595876,0.8463066660820122,0.8388606021992824,0.8169691501337144,0.7975104271672967,0.801930304854197,0.8137976271344673,0.8311961247825068],[0.8563090159036236,0.8714334905328254,0.8748075244195744,0.8750845281993762,0.8750826253582025,0.8747494760410657,0.8710614910659066,0.8589690733970292],[0.8479197203412085,0.8118575960370021,0.7461891012649086,0.7610064955671701,0.8060323708810551,0.7608402269376408,0.672975883815006,0.717808012072551],[0.8022157202735041,0.8237414262101089,0.8112466267707659,0.8261916211649831,0.8598195070398615,0.8284257435711426,0.7540148114740233,0.7767512274263473],[0.8395513629569532,0.8549274673714453,0.8461389530961687,0.8399731546332845,0.8207778755163668,0.799188178893869,0.8063450020648733,0.8449494116684322],[0.8697821884348782,0.8328317288636111,0.7583449152280248,0.7449106462563478,0.761346430215866,0.7476711706566578,0.7480458619442834,0.8076172294810684],[0.842253791621598,0.8014193029228986,0.7512682567747861,0.7810925992813172,0.8510586578675328,0.8703269263363107,0.765494064562668,0.6537071293966342],[0.7352525203906581,0.802717604599718,0.7670375031281853,0.7800276095003142,0.8141984204250214,0.8392658697654539,0.802751409782483,0.5876053078210832],[0.25803370602394937,0.11227754169154286,0.22973322542536706,0.4807972649583483,0.694863080995015,0.792693317098018,0.8285321044757934,0.8511113620158159],[0.8452433009177673,0.8096971181215687,0.7649131612850831,0.7395726394038575,0.7749714717008103,0.812233285480902,0.8133030601527242,0.8268802169765873],[0.8142337684150833,0.7653275147201501,0.7709907832313023,0.7426611209753533,0.5502466825758836,0.2368160193911707,0.046281663333871986,0.00372055073940957]],\"zmax\":1,\"zmin\":0,\"type\":\"heatmap\"}],                        {\"template\":{\"data\":{\"bar\":[{\"error_x\":{\"color\":\"#2a3f5f\"},\"error_y\":{\"color\":\"#2a3f5f\"},\"marker\":{\"line\":{\"color\":\"#E5ECF6\",\"width\":0.5},\"pattern\":{\"fillmode\":\"overlay\",\"size\":10,\"solidity\":0.2}},\"type\":\"bar\"}],\"barpolar\":[{\"marker\":{\"line\":{\"color\":\"#E5ECF6\",\"width\":0.5},\"pattern\":{\"fillmode\":\"overlay\",\"size\":10,\"solidity\":0.2}},\"type\":\"barpolar\"}],\"carpet\":[{\"aaxis\":{\"endlinecolor\":\"#2a3f5f\",\"gridcolor\":\"white\",\"linecolor\":\"white\",\"minorgridcolor\":\"white\",\"startlinecolor\":\"#2a3f5f\"},\"baxis\":{\"endlinecolor\":\"#2a3f5f\",\"gridcolor\":\"white\",\"linecolor\":\"white\",\"minorgridcolor\":\"white\",\"startlinecolor\":\"#2a3f5f\"},\"type\":\"carpet\"}],\"choropleth\":[{\"colorbar\":{\"outlinewidth\":0,\"ticks\":\"\"},\"type\":\"choropleth\"}],\"contour\":[{\"colorbar\":{\"outlinewidth\":0,\"ticks\":\"\"},\"colorscale\":[[0.0,\"#0d0887\"],[0.1111111111111111,\"#46039f\"],[0.2222222222222222,\"#7201a8\"],[0.3333333333333333,\"#9c179e\"],[0.4444444444444444,\"#bd3786\"],[0.5555555555555556,\"#d8576b\"],[0.6666666666666666,\"#ed7953\"],[0.7777777777777778,\"#fb9f3a\"],[0.8888888888888888,\"#fdca26\"],[1.0,\"#f0f921\"]],\"type\":\"contour\"}],\"contourcarpet\":[{\"colorbar\":{\"outlinewidth\":0,\"ticks\":\"\"},\"type\":\"contourcarpet\"}],\"heatmap\":[{\"colorbar\":{\"outlinewidth\":0,\"ticks\":\"\"},\"colorscale\":[[0.0,\"#0d0887\"],[0.1111111111111111,\"#46039f\"],[0.2222222222222222,\"#7201a8\"],[0.3333333333333333,\"#9c179e\"],[0.4444444444444444,\"#bd3786\"],[0.5555555555555556,\"#d8576b\"],[0.6666666666666666,\"#ed7953\"],[0.7777777777777778,\"#fb9f3a\"],[0.8888888888888888,\"#fdca26\"],[1.0,\"#f0f921\"]],\"type\":\"heatmap\"}],\"heatmapgl\":[{\"colorbar\":{\"outlinewidth\":0,\"ticks\":\"\"},\"colorscale\":[[0.0,\"#0d0887\"],[0.1111111111111111,\"#46039f\"],[0.2222222222222222,\"#7201a8\"],[0.3333333333333333,\"#9c179e\"],[0.4444444444444444,\"#bd3786\"],[0.5555555555555556,\"#d8576b\"],[0.6666666666666666,\"#ed7953\"],[0.7777777777777778,\"#fb9f3a\"],[0.8888888888888888,\"#fdca26\"],[1.0,\"#f0f921\"]],\"type\":\"heatmapgl\"}],\"histogram\":[{\"marker\":{\"pattern\":{\"fillmode\":\"overlay\",\"size\":10,\"solidity\":0.2}},\"type\":\"histogram\"}],\"histogram2d\":[{\"colorbar\":{\"outlinewidth\":0,\"ticks\":\"\"},\"colorscale\":[[0.0,\"#0d0887\"],[0.1111111111111111,\"#46039f\"],[0.2222222222222222,\"#7201a8\"],[0.3333333333333333,\"#9c179e\"],[0.4444444444444444,\"#bd3786\"],[0.5555555555555556,\"#d8576b\"],[0.6666666666666666,\"#ed7953\"],[0.7777777777777778,\"#fb9f3a\"],[0.8888888888888888,\"#fdca26\"],[1.0,\"#f0f921\"]],\"type\":\"histogram2d\"}],\"histogram2dcontour\":[{\"colorbar\":{\"outlinewidth\":0,\"ticks\":\"\"},\"colorscale\":[[0.0,\"#0d0887\"],[0.1111111111111111,\"#46039f\"],[0.2222222222222222,\"#7201a8\"],[0.3333333333333333,\"#9c179e\"],[0.4444444444444444,\"#bd3786\"],[0.5555555555555556,\"#d8576b\"],[0.6666666666666666,\"#ed7953\"],[0.7777777777777778,\"#fb9f3a\"],[0.8888888888888888,\"#fdca26\"],[1.0,\"#f0f921\"]],\"type\":\"histogram2dcontour\"}],\"mesh3d\":[{\"colorbar\":{\"outlinewidth\":0,\"ticks\":\"\"},\"type\":\"mesh3d\"}],\"parcoords\":[{\"line\":{\"colorbar\":{\"outlinewidth\":0,\"ticks\":\"\"}},\"type\":\"parcoords\"}],\"pie\":[{\"automargin\":true,\"type\":\"pie\"}],\"scatter\":[{\"marker\":{\"colorbar\":{\"outlinewidth\":0,\"ticks\":\"\"}},\"type\":\"scatter\"}],\"scatter3d\":[{\"line\":{\"colorbar\":{\"outlinewidth\":0,\"ticks\":\"\"}},\"marker\":{\"colorbar\":{\"outlinewidth\":0,\"ticks\":\"\"}},\"type\":\"scatter3d\"}],\"scattercarpet\":[{\"marker\":{\"colorbar\":{\"outlinewidth\":0,\"ticks\":\"\"}},\"type\":\"scattercarpet\"}],\"scattergeo\":[{\"marker\":{\"colorbar\":{\"outlinewidth\":0,\"ticks\":\"\"}},\"type\":\"scattergeo\"}],\"scattergl\":[{\"marker\":{\"colorbar\":{\"outlinewidth\":0,\"ticks\":\"\"}},\"type\":\"scattergl\"}],\"scattermapbox\":[{\"marker\":{\"colorbar\":{\"outlinewidth\":0,\"ticks\":\"\"}},\"type\":\"scattermapbox\"}],\"scatterpolar\":[{\"marker\":{\"colorbar\":{\"outlinewidth\":0,\"ticks\":\"\"}},\"type\":\"scatterpolar\"}],\"scatterpolargl\":[{\"marker\":{\"colorbar\":{\"outlinewidth\":0,\"ticks\":\"\"}},\"type\":\"scatterpolargl\"}],\"scatterternary\":[{\"marker\":{\"colorbar\":{\"outlinewidth\":0,\"ticks\":\"\"}},\"type\":\"scatterternary\"}],\"surface\":[{\"colorbar\":{\"outlinewidth\":0,\"ticks\":\"\"},\"colorscale\":[[0.0,\"#0d0887\"],[0.1111111111111111,\"#46039f\"],[0.2222222222222222,\"#7201a8\"],[0.3333333333333333,\"#9c179e\"],[0.4444444444444444,\"#bd3786\"],[0.5555555555555556,\"#d8576b\"],[0.6666666666666666,\"#ed7953\"],[0.7777777777777778,\"#fb9f3a\"],[0.8888888888888888,\"#fdca26\"],[1.0,\"#f0f921\"]],\"type\":\"surface\"}],\"table\":[{\"cells\":{\"fill\":{\"color\":\"#EBF0F8\"},\"line\":{\"color\":\"white\"}},\"header\":{\"fill\":{\"color\":\"#C8D4E3\"},\"line\":{\"color\":\"white\"}},\"type\":\"table\"}]},\"layout\":{\"annotationdefaults\":{\"arrowcolor\":\"#2a3f5f\",\"arrowhead\":0,\"arrowwidth\":1},\"autotypenumbers\":\"strict\",\"coloraxis\":{\"colorbar\":{\"outlinewidth\":0,\"ticks\":\"\"}},\"colorscale\":{\"diverging\":[[0,\"#8e0152\"],[0.1,\"#c51b7d\"],[0.2,\"#de77ae\"],[0.3,\"#f1b6da\"],[0.4,\"#fde0ef\"],[0.5,\"#f7f7f7\"],[0.6,\"#e6f5d0\"],[0.7,\"#b8e186\"],[0.8,\"#7fbc41\"],[0.9,\"#4d9221\"],[1,\"#276419\"]],\"sequential\":[[0.0,\"#0d0887\"],[0.1111111111111111,\"#46039f\"],[0.2222222222222222,\"#7201a8\"],[0.3333333333333333,\"#9c179e\"],[0.4444444444444444,\"#bd3786\"],[0.5555555555555556,\"#d8576b\"],[0.6666666666666666,\"#ed7953\"],[0.7777777777777778,\"#fb9f3a\"],[0.8888888888888888,\"#fdca26\"],[1.0,\"#f0f921\"]],\"sequentialminus\":[[0.0,\"#0d0887\"],[0.1111111111111111,\"#46039f\"],[0.2222222222222222,\"#7201a8\"],[0.3333333333333333,\"#9c179e\"],[0.4444444444444444,\"#bd3786\"],[0.5555555555555556,\"#d8576b\"],[0.6666666666666666,\"#ed7953\"],[0.7777777777777778,\"#fb9f3a\"],[0.8888888888888888,\"#fdca26\"],[1.0,\"#f0f921\"]]},\"colorway\":[\"#636efa\",\"#EF553B\",\"#00cc96\",\"#ab63fa\",\"#FFA15A\",\"#19d3f3\",\"#FF6692\",\"#B6E880\",\"#FF97FF\",\"#FECB52\"],\"font\":{\"color\":\"#2a3f5f\"},\"geo\":{\"bgcolor\":\"white\",\"lakecolor\":\"white\",\"landcolor\":\"#E5ECF6\",\"showlakes\":true,\"showland\":true,\"subunitcolor\":\"white\"},\"hoverlabel\":{\"align\":\"left\"},\"hovermode\":\"closest\",\"mapbox\":{\"style\":\"light\"},\"paper_bgcolor\":\"white\",\"plot_bgcolor\":\"#E5ECF6\",\"polar\":{\"angularaxis\":{\"gridcolor\":\"white\",\"linecolor\":\"white\",\"ticks\":\"\"},\"bgcolor\":\"#E5ECF6\",\"radialaxis\":{\"gridcolor\":\"white\",\"linecolor\":\"white\",\"ticks\":\"\"}},\"scene\":{\"xaxis\":{\"backgroundcolor\":\"#E5ECF6\",\"gridcolor\":\"white\",\"gridwidth\":2,\"linecolor\":\"white\",\"showbackground\":true,\"ticks\":\"\",\"zerolinecolor\":\"white\"},\"yaxis\":{\"backgroundcolor\":\"#E5ECF6\",\"gridcolor\":\"white\",\"gridwidth\":2,\"linecolor\":\"white\",\"showbackground\":true,\"ticks\":\"\",\"zerolinecolor\":\"white\"},\"zaxis\":{\"backgroundcolor\":\"#E5ECF6\",\"gridcolor\":\"white\",\"gridwidth\":2,\"linecolor\":\"white\",\"showbackground\":true,\"ticks\":\"\",\"zerolinecolor\":\"white\"}},\"shapedefaults\":{\"line\":{\"color\":\"#2a3f5f\"}},\"ternary\":{\"aaxis\":{\"gridcolor\":\"white\",\"linecolor\":\"white\",\"ticks\":\"\"},\"baxis\":{\"gridcolor\":\"white\",\"linecolor\":\"white\",\"ticks\":\"\"},\"bgcolor\":\"#E5ECF6\",\"caxis\":{\"gridcolor\":\"white\",\"linecolor\":\"white\",\"ticks\":\"\"}},\"title\":{\"x\":0.05},\"xaxis\":{\"automargin\":true,\"gridcolor\":\"white\",\"linecolor\":\"white\",\"ticks\":\"\",\"title\":{\"standoff\":15},\"zerolinecolor\":\"white\",\"zerolinewidth\":2},\"yaxis\":{\"automargin\":true,\"gridcolor\":\"white\",\"linecolor\":\"white\",\"ticks\":\"\",\"title\":{\"standoff\":15},\"zerolinecolor\":\"white\",\"zerolinewidth\":2}}},\"font\":{\"family\":\"Courier New\"},\"height\":1176,\"width\":1000,\"yaxis\":{\"autorange\":\"reversed\"}},                        {\"responsive\": true}                    ).then(function(){\n",
              "                            \n",
              "var gd = document.getElementById('827561b5-a1c0-4df0-be49-ae95d4df5b3a');\n",
              "var x = new MutationObserver(function (mutations, observer) {{\n",
              "        var display = window.getComputedStyle(gd).display;\n",
              "        if (!display || display === 'none') {{\n",
              "            console.log([gd, 'removed!']);\n",
              "            Plotly.purge(gd);\n",
              "            observer.disconnect();\n",
              "        }}\n",
              "}});\n",
              "\n",
              "// Listen for the removal of the full notebook cells\n",
              "var notebookContainer = gd.closest('#notebook-container');\n",
              "if (notebookContainer) {{\n",
              "    x.observe(notebookContainer, {childList: true});\n",
              "}}\n",
              "\n",
              "// Listen for the clearing of the current output cell\n",
              "var outputEl = gd.closest('.output');\n",
              "if (outputEl) {{\n",
              "    x.observe(outputEl, {childList: true});\n",
              "}}\n",
              "\n",
              "                        })                };                            </script>        </div>\n",
              "</body>\n",
              "</html>"
            ]
          },
          "metadata": {}
        }
      ]
    },
    {
      "cell_type": "markdown",
      "metadata": {
        "id": "n7eKVJQA5Q1C"
      },
      "source": [
        "\n",
        "\n",
        "\n",
        "## Plagiarism Checker using TF-IDF Model"
      ]
    },
    {
      "cell_type": "code",
      "execution_count": null,
      "metadata": {
        "id": "_0NWt_54z13U"
      },
      "outputs": [],
      "source": [
        "import numpy as np\n",
        "import pandas as pd\n",
        "import pickle\n",
        "\n",
        "from sklearn.feature_extraction.text import TfidfVectorizer\n",
        "from sklearn.metrics.pairwise import linear_kernel\n",
        "from sklearn.cluster import MiniBatchKMeans\n",
        "\n",
        "\n",
        "# tfidf calculation\n",
        "text_content = df['article_preprocessed']\n",
        "vector = TfidfVectorizer(max_df=0.3,         # drop words that occur in more than X percent of documents\n",
        "                             #min_df=8,      # only use words that appear at least X times\n",
        "                             stop_words='english', # remove stop words\n",
        "                             lowercase=True, # Convert everything to lower case \n",
        "                             use_idf=True,   # Use idf\n",
        "                             norm=u'l2',     # Normalization\n",
        "                             smooth_idf=True # Prevents divide-by-zero errors\n",
        "                            )\n",
        "tfidf = vector.fit_transform(text_content)\n",
        "\n",
        "\n",
        "# Request function : search the top_n articles from a request ( request = string)\n",
        "def search(tfidf_matrix,model,request, top_n = 5):\n",
        "    request_transform = model.transform([request])\n",
        "    similarity = np.dot(request_transform,np.transpose(tfidf_matrix))\n",
        "    x = np.array(similarity.toarray()[0])\n",
        "    indices=np.argsort(x)[-5:][::-1]\n",
        "    return indices\n",
        "\n",
        "# Find similar : get the top_n articles similar to an article \n",
        "# def find_similar(tfidf_matrix, index, top_n = 5):\n",
        "#     cosine_similarities = linear_kernel(tfidf_matrix[index:index+1], tfidf_matrix).flatten()\n",
        "#     related_docs_indices = [i for i in cosine_similarities.argsort()[::-1] if i != index]\n",
        "#     return [index for index in related_docs_indices][0:top_n]    \n",
        "\n",
        "# Print the result\n",
        "def print_result(request_content,indices,X):\n",
        "    print('\\nsearch : ' + request_content)\n",
        "    print('\\nBest Results :')\n",
        "    for i in indices:\n",
        "        print('id = {0:5d} - title = {1}'.format(i,df['title'].loc[i]))"
      ]
    },
    {
      "cell_type": "code",
      "execution_count": null,
      "metadata": {
        "colab": {
          "base_uri": "https://localhost:8080/"
        },
        "id": "kmYAzr6gpBYw",
        "outputId": "72dbaa00-b7a7-4285-f13d-26c23b59a8b1"
      },
      "outputs": [
        {
          "output_type": "stream",
          "name": "stdout",
          "text": [
            "\n",
            "search : mother obliged travel false identities state affairs known among chinese immigrants paper son hope circumventing chinese exclusion act 1882 signed law president chester arthur act drastically curtailed number chinese people allowed enter country among earliest united states laws impose severe restrictions immigration 1906 unforeseen loophole opened form san francisco earthquake fire huge number municipal documents including birth immigration records destroyed many newly arrived chinese capitalized loss maintaining born san francisco fire united states citizens entitled bring relatives case gen yeo father paper sons posing relatives attuned deception united states immigration officials put chinese arrivals formidable inquisition ensure claimed questions came like gunfire direction village face many windows house house rice bin wide well deep trees village lakes shops name sponsoring relative interrogated separately answers match new arrival major mistake series smaller ones could mean deportation stand chance passing aspirants memorized rigorous dossiers known coaching papers ensuing interrogation hard enough adults gen yeo would undergo alone dec 30 1920 month sea wongs landed angel island immigration station elder mr wong traveling merchant named look get son look tai yow angel island considered ellis island west coast lisa see author gold mountain 1995 nonfiction chronicle family said interview 2016 however continued goal really different ellis island supposed welcoming angel island opened specifically keep chinese mr wongs father previously lived united states look get able clear immigration quickly new arrival gen yeo detained island nearly month child among immigrants held scared half death cried mr wong recalled tyrus documentary directed pamela tom premiered 2015 every day miserable miserable hated place jan 27 1921 presence interpreter stenographer young gen yeo posing look tai yow interrogated three inspectors father already questioned gen yeo well prepared answered without error sacramento joined father schoolteacher americanized tai yow tyrus known tyrus wong ever soon afterward father son separated elder mr wong moved los angeles seek work reasons lost time could give son tyrus lived sacramento boardinghouse attending elementary school two years later possibly tyrus traveled los angeles join father found work\n",
            "\n",
            "Best Results :\n",
            "id =     2 - title = Tyrus Wong, ‘Bambi’ Artist Thwarted by Racial Bias, Dies at 106 - The New York Times\n",
            "id =   576 - title = Trump Orders Mexican Border Wall to Be Built and Plans to Block Syrian Refugees - The New York Times\n",
            "id =   214 - title = California Today: $8 Million in Tech Money for the Bay Area Arts - The New York Times\n",
            "id =   117 - title = California Today: Cracking Down on Distracted Driving - The New York Times\n",
            "id =   395 - title = In Era of Trump, China’s President Champions Economic Globalization - The New York Times\n"
          ]
        }
      ],
      "source": [
        "result = search(tfidf,vector, new_article, top_n = 5)\n",
        "print_result(new_article,result,df)"
      ]
    },
    {
      "cell_type": "markdown",
      "source": [
        "## Plagiarism Checker using Cosine Similarity"
      ],
      "metadata": {
        "id": "YptdFTLyeQUN"
      }
    },
    {
      "cell_type": "code",
      "source": [
        "def cosine_similarity(X, Y):\n",
        "  X_set = set(word_tokenize(X))\n",
        "  Y_set = set(word_tokenize(Y))\n",
        "\n",
        "  l1 =[];l2 =[]\n",
        "  c = 0\n",
        "\n",
        "  # form a set containing keywords of both strings \n",
        "  rvector = X_set.union(Y_set) \n",
        "  for w in rvector:\n",
        "      if w in X_set: l1.append(1) \n",
        "      else: l1.append(0)\n",
        "      if w in Y_set: l2.append(1)\n",
        "      else: l2.append(0)\n",
        "    \n",
        "  # cosine formula \n",
        "  for i in range(len(rvector)):\n",
        "          c+= l1[i]*l2[i]\n",
        "  cosine = c / float((sum(l1)*sum(l2))**0.5)\n",
        "\n",
        "  return cosine"
      ],
      "metadata": {
        "id": "yzbFSU0rVt_k"
      },
      "execution_count": null,
      "outputs": []
    },
    {
      "cell_type": "code",
      "source": [
        "max_cos_score, idx = -1, -1\n",
        "\n",
        "for i in range(len(articles)):\n",
        "  score = cosine_similarity(articles[i], new_article)\n",
        "  if score>max_cos_score:\n",
        "    max_cos_score = score\n",
        "    idx = i\n",
        "\n",
        "print(\"Cosine Similarity score :\", max_cos_score)\n",
        "print(\"Plagiarised from article no : \", idx)"
      ],
      "metadata": {
        "id": "wSJvdgfPa0ZI",
        "colab": {
          "base_uri": "https://localhost:8080/"
        },
        "outputId": "0747c3e1-9d62-475f-8cac-2ec5d684f53c"
      },
      "execution_count": null,
      "outputs": [
        {
          "output_type": "stream",
          "name": "stdout",
          "text": [
            "Cosine Similarity score : 0.5414140464019368\n",
            "Plagiarised from article no :  2\n"
          ]
        }
      ]
    },
    {
      "cell_type": "code",
      "source": [],
      "metadata": {
        "id": "7bnObzjERth2"
      },
      "execution_count": null,
      "outputs": []
    }
  ],
  "metadata": {
    "colab": {
      "collapsed_sections": [],
      "provenance": []
    },
    "kernelspec": {
      "display_name": "Python 3",
      "name": "python3"
    },
    "language_info": {
      "name": "python"
    }
  },
  "nbformat": 4,
  "nbformat_minor": 0
}